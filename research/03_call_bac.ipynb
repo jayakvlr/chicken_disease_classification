{
 "cells": [
  {
   "cell_type": "code",
   "execution_count": 1,
   "metadata": {},
   "outputs": [],
   "source": [
    "import os\n",
    "os.chdir('../')"
   ]
  },
  {
   "cell_type": "code",
   "execution_count": 2,
   "metadata": {},
   "outputs": [],
   "source": [
    "from pathlib import Path\n",
    "from dataclasses import dataclass\n",
    "\n",
    "@dataclass(frozen=True)\n",
    "class PrepareCallBackConfig:\n",
    "    root_dir:Path\n",
    "    tensorboard_root_log_dir: Path\n",
    "    checkpoint_model_filepath: Path"
   ]
  },
  {
   "cell_type": "code",
   "execution_count": 8,
   "metadata": {},
   "outputs": [],
   "source": [
    "from chicken_disease_classifier.constants import *\n",
    "\n",
    "from chicken_disease_classifier.utils.common import read_yaml,create_directories\n",
    "\n",
    "class ConfigurationManager:\n",
    "    def __init__(self,config_filepath=CONFIG_FILE_PATH,params_filepath=PARAMS_FILE_PATH):\n",
    "        self.config=read_yaml(config_filepath)\n",
    "        self.params=read_yaml(params_filepath)\n",
    "\n",
    "        create_directories([self.config.artifacts_root])\n",
    "\n",
    "    def prepare_call_back_config(self)->PrepareCallBackConfig:\n",
    "        config=self.config.prepare_callbacks\n",
    "        model_ckpt_dir=os.path.dirname(config.checkpoint_model_filepath)\n",
    "        create_directories([Path(model_ckpt_dir),Path(config.tensorboard_root_log_dir)])\n",
    "        prepare_callback_config=PrepareCallBackConfig(\n",
    "            root_dir=Path(config.root_dir),\n",
    "            \n",
    "            tensorboard_root_log_dir=Path(config.tensorboard_root_log_dir),\n",
    "            checkpoint_model_filepath=Path(config.checkpoint_model_filepath))\n",
    "        return prepare_callback_config"
   ]
  },
  {
   "cell_type": "code",
   "execution_count": 5,
   "metadata": {},
   "outputs": [],
   "source": [
    "#Component\n",
    "#Components for loading data\n",
    "import os\n",
    "from pathlib import Path\n",
    "import urllib.request as request\n",
    "import zipfile\n",
    "import tensorflow as tf\n",
    "import time\n",
    "class PrepareCallback:\n",
    "    def __init__(self,config:PrepareCallBackConfig):\n",
    "        self.config=config\n",
    "\n",
    "    @property\n",
    "    def _create_tb_callbacks(self):\n",
    "        timestamp = time.strftime(\"%Y-%m-%d-%H-%M-%S\")\n",
    "        tb_running_log_dir = os.path.join(\n",
    "            self.config.tensorboard_root_log_dir,\n",
    "            f\"tb_logs_at_{timestamp}\",\n",
    "        )\n",
    "        return tf.keras.callbacks.TensorBoard(log_dir=tb_running_log_dir)\n",
    "    \n",
    "\n",
    "    @property\n",
    "    def _create_ckpt_callbacks(self):\n",
    "        return tf.keras.callbacks.ModelCheckpoint(\n",
    "            filepath=self.config.checkpoint_model_filepath,\n",
    "            save_best_only=True\n",
    "        )\n",
    "    def get_tb_ckpt_callbacks(self):\n",
    "        return [\n",
    "            self._create_tb_callbacks,\n",
    "            self._create_ckpt_callbacks\n",
    "        ]"
   ]
  },
  {
   "cell_type": "code",
   "execution_count": 9,
   "metadata": {},
   "outputs": [
    {
     "name": "stdout",
     "output_type": "stream",
     "text": [
      "[2023-08-06 16:05:06,030:INFO:common:yaml file:config\\config.yaml loaded successfully]\n",
      "[2023-08-06 16:05:06,032:INFO:common:yaml file:params.yaml loaded successfully]\n",
      "[2023-08-06 16:05:06,033:INFO:common:created directory at:artifacts]\n",
      "[2023-08-06 16:05:06,042:INFO:common:created directory at:artifacts\\prepare_callbacks\\checkpoint_dir]\n",
      "[2023-08-06 16:05:06,042:INFO:common:created directory at:artifacts\\prepare_callbacks\\tensorboard_log_dir]\n"
     ]
    },
    {
     "ename": "AttributeError",
     "evalue": "'WindowsPath' object has no attribute 'endswith'",
     "output_type": "error",
     "traceback": [
      "\u001b[1;31m---------------------------------------------------------------------------\u001b[0m",
      "\u001b[1;31mAttributeError\u001b[0m                            Traceback (most recent call last)",
      "Cell \u001b[1;32mIn[9], line 4\u001b[0m\n\u001b[0;32m      2\u001b[0m prepare_cb_config\u001b[39m=\u001b[39mconfig\u001b[39m.\u001b[39mprepare_call_back_config()\n\u001b[0;32m      3\u001b[0m prepare_callback\u001b[39m=\u001b[39mPrepareCallback(config\u001b[39m=\u001b[39mprepare_cb_config)\n\u001b[1;32m----> 4\u001b[0m callback_list\u001b[39m=\u001b[39mprepare_callback\u001b[39m.\u001b[39;49mget_tb_ckpt_callbacks()\n",
      "Cell \u001b[1;32mIn[5], line 29\u001b[0m, in \u001b[0;36mPrepareCallback.get_tb_ckpt_callbacks\u001b[1;34m(self)\u001b[0m\n\u001b[0;32m     26\u001b[0m \u001b[39mdef\u001b[39;00m \u001b[39mget_tb_ckpt_callbacks\u001b[39m(\u001b[39mself\u001b[39m):\n\u001b[0;32m     27\u001b[0m     \u001b[39mreturn\u001b[39;00m [\n\u001b[0;32m     28\u001b[0m         \u001b[39mself\u001b[39m\u001b[39m.\u001b[39m_create_tb_callbacks,\n\u001b[1;32m---> 29\u001b[0m         \u001b[39mself\u001b[39;49m\u001b[39m.\u001b[39;49m_create_ckpt_callbacks\n\u001b[0;32m     30\u001b[0m     ]\n",
      "Cell \u001b[1;32mIn[5], line 24\u001b[0m, in \u001b[0;36mPrepareCallback._create_ckpt_callbacks\u001b[1;34m(self)\u001b[0m\n\u001b[0;32m     22\u001b[0m \u001b[39m@property\u001b[39m\n\u001b[0;32m     23\u001b[0m \u001b[39mdef\u001b[39;00m \u001b[39m_create_ckpt_callbacks\u001b[39m(\u001b[39mself\u001b[39m):\n\u001b[1;32m---> 24\u001b[0m     \u001b[39mreturn\u001b[39;00m tf\u001b[39m.\u001b[39;49mkeras\u001b[39m.\u001b[39;49mcallbacks\u001b[39m.\u001b[39;49mModelCheckpoint(filepath\u001b[39m=\u001b[39;49m\u001b[39mself\u001b[39;49m\u001b[39m.\u001b[39;49mconfig\u001b[39m.\u001b[39;49mcheckpoint_model_filepath,save_best_only\u001b[39m=\u001b[39;49m\u001b[39mTrue\u001b[39;49;00m)\n",
      "File \u001b[1;32mc:\\Users\\jayak\\anaconda3\\envs\\tensorflow_ven\\lib\\site-packages\\keras\\src\\callbacks.py:1369\u001b[0m, in \u001b[0;36mModelCheckpoint.__init__\u001b[1;34m(self, filepath, monitor, verbose, save_best_only, save_weights_only, mode, save_freq, options, initial_value_threshold, **kwargs)\u001b[0m\n\u001b[0;32m   1363\u001b[0m         \u001b[39mraise\u001b[39;00m \u001b[39mTypeError\u001b[39;00m(\n\u001b[0;32m   1364\u001b[0m             \u001b[39m\"\u001b[39m\u001b[39mIf save_weights_only is True, then `options` must be \u001b[39m\u001b[39m\"\u001b[39m\n\u001b[0;32m   1365\u001b[0m             \u001b[39m\"\u001b[39m\u001b[39meither None or a tf.train.CheckpointOptions. \u001b[39m\u001b[39m\"\u001b[39m\n\u001b[0;32m   1366\u001b[0m             \u001b[39mf\u001b[39m\u001b[39m\"\u001b[39m\u001b[39mGot \u001b[39m\u001b[39m{\u001b[39;00moptions\u001b[39m}\u001b[39;00m\u001b[39m.\u001b[39m\u001b[39m\"\u001b[39m\n\u001b[0;32m   1367\u001b[0m         )\n\u001b[0;32m   1368\u001b[0m \u001b[39melse\u001b[39;00m:\n\u001b[1;32m-> 1369\u001b[0m     \u001b[39mif\u001b[39;00m filepath \u001b[39mand\u001b[39;00m filepath\u001b[39m.\u001b[39;49mendswith(\u001b[39m\"\u001b[39m\u001b[39m.keras\u001b[39m\u001b[39m\"\u001b[39m) \u001b[39mand\u001b[39;00m options \u001b[39mis\u001b[39;00m \u001b[39mnot\u001b[39;00m \u001b[39mNone\u001b[39;00m:\n\u001b[0;32m   1370\u001b[0m         \u001b[39mraise\u001b[39;00m \u001b[39mValueError\u001b[39;00m(\n\u001b[0;32m   1371\u001b[0m             \u001b[39m\"\u001b[39m\u001b[39mThe native Keras format does not support \u001b[39m\u001b[39m\"\u001b[39m\n\u001b[0;32m   1372\u001b[0m             \u001b[39m\"\u001b[39m\u001b[39mthe `options` argument. Please remove \u001b[39m\u001b[39m\"\u001b[39m\n\u001b[1;32m   (...)\u001b[0m\n\u001b[0;32m   1375\u001b[0m             \u001b[39m\"\u001b[39m\u001b[39mthe model filepath.\u001b[39m\u001b[39m\"\u001b[39m\n\u001b[0;32m   1376\u001b[0m         )\n\u001b[0;32m   1377\u001b[0m     \u001b[39mif\u001b[39;00m options \u001b[39mis\u001b[39;00m \u001b[39mNone\u001b[39;00m \u001b[39mor\u001b[39;00m \u001b[39misinstance\u001b[39m(\n\u001b[0;32m   1378\u001b[0m         options, tf\u001b[39m.\u001b[39msaved_model\u001b[39m.\u001b[39mSaveOptions\n\u001b[0;32m   1379\u001b[0m     ):\n",
      "\u001b[1;31mAttributeError\u001b[0m: 'WindowsPath' object has no attribute 'endswith'"
     ]
    }
   ],
   "source": [
    "config=ConfigurationManager()\n",
    "prepare_cb_config=config.prepare_call_back_config()\n",
    "prepare_callback=PrepareCallback(config=prepare_cb_config)\n",
    "callback_list=prepare_callback.get_tb_ckpt_callbacks()"
   ]
  },
  {
   "cell_type": "code",
   "execution_count": null,
   "metadata": {},
   "outputs": [],
   "source": []
  }
 ],
 "metadata": {
  "kernelspec": {
   "display_name": "tensorflow_ven",
   "language": "python",
   "name": "python3"
  },
  "language_info": {
   "codemirror_mode": {
    "name": "ipython",
    "version": 3
   },
   "file_extension": ".py",
   "mimetype": "text/x-python",
   "name": "python",
   "nbconvert_exporter": "python",
   "pygments_lexer": "ipython3",
   "version": "3.9.17"
  },
  "orig_nbformat": 4
 },
 "nbformat": 4,
 "nbformat_minor": 2
}
